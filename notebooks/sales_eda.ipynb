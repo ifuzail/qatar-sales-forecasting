{
 "cells": [
  {
   "cell_type": "markdown",
   "id": "3d7162b7",
   "metadata": {},
   "source": [
    "## 1. Setup and Data Extraction\n",
    " - Import libraries\n",
    " - Connect using get_engine()\n",
    " - Load fact + dimension tables\n",
    " - Merge into df"
   ]
  },
  {
   "cell_type": "code",
   "execution_count": null,
   "id": "483d2e41",
   "metadata": {},
   "outputs": [],
   "source": []
  }
 ],
 "metadata": {
  "kernelspec": {
   "display_name": "venv",
   "language": "python",
   "name": "python3"
  },
  "language_info": {
   "name": "python",
   "version": "3.12.3"
  }
 },
 "nbformat": 4,
 "nbformat_minor": 5
}
